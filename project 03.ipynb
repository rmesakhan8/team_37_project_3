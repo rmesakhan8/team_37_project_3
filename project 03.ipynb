{
 "cells": [
  {
   "cell_type": "code",
   "execution_count": null,
   "id": "3d3dfdd3-ada5-4a2d-b7dc-67220a19f082",
   "metadata": {},
   "outputs": [],
   "source": []
  },
  {
   "cell_type": "code",
   "execution_count": 30,
   "id": "3b33cca7-d18e-49e6-b991-5ec95512dac4",
   "metadata": {},
   "outputs": [
    {
     "name": "stdout",
     "output_type": "stream",
     "text": [
      "Updating availability for Alice\n",
      "\n",
      "Day: Monday\n"
     ]
    },
    {
     "name": "stdin",
     "output_type": "stream",
     "text": [
      "Enter availability for 7:00AM - 1:00PM (preferred/available/unavailable):  a\n"
     ]
    },
    {
     "name": "stdout",
     "output_type": "stream",
     "text": [
      "Invalid input. Defaulting to 'available'.\n"
     ]
    },
    {
     "name": "stdin",
     "output_type": "stream",
     "text": [
      "Enter availability for 1:00PM - 7:00PM (preferred/available/unavailable):  a\n"
     ]
    },
    {
     "name": "stdout",
     "output_type": "stream",
     "text": [
      "Invalid input. Defaulting to 'available'.\n",
      "\n",
      "Day: Tuesday\n"
     ]
    },
    {
     "name": "stdin",
     "output_type": "stream",
     "text": [
      "Enter availability for 7:00AM - 1:00PM (preferred/available/unavailable):  a\n"
     ]
    },
    {
     "name": "stdout",
     "output_type": "stream",
     "text": [
      "Invalid input. Defaulting to 'available'.\n"
     ]
    },
    {
     "name": "stdin",
     "output_type": "stream",
     "text": [
      "Enter availability for 1:00PM - 7:00PM (preferred/available/unavailable):  a\n"
     ]
    },
    {
     "name": "stdout",
     "output_type": "stream",
     "text": [
      "Invalid input. Defaulting to 'available'.\n",
      "\n",
      "Day: Wednesday\n"
     ]
    },
    {
     "name": "stdin",
     "output_type": "stream",
     "text": [
      "Enter availability for 7:00AM - 1:00PM (preferred/available/unavailable):  a\n"
     ]
    },
    {
     "name": "stdout",
     "output_type": "stream",
     "text": [
      "Invalid input. Defaulting to 'available'.\n"
     ]
    },
    {
     "name": "stdin",
     "output_type": "stream",
     "text": [
      "Enter availability for 1:00PM - 7:00PM (preferred/available/unavailable):  a\n"
     ]
    },
    {
     "name": "stdout",
     "output_type": "stream",
     "text": [
      "Invalid input. Defaulting to 'available'.\n",
      "\n",
      "Day: Thursday\n"
     ]
    },
    {
     "name": "stdin",
     "output_type": "stream",
     "text": [
      "Enter availability for 7:00AM - 1:00PM (preferred/available/unavailable):  a\n"
     ]
    },
    {
     "name": "stdout",
     "output_type": "stream",
     "text": [
      "Invalid input. Defaulting to 'available'.\n"
     ]
    },
    {
     "name": "stdin",
     "output_type": "stream",
     "text": [
      "Enter availability for 1:00PM - 7:00PM (preferred/available/unavailable):  a\n"
     ]
    },
    {
     "name": "stdout",
     "output_type": "stream",
     "text": [
      "Invalid input. Defaulting to 'available'.\n",
      "\n",
      "Day: Fridan\n"
     ]
    },
    {
     "name": "stdin",
     "output_type": "stream",
     "text": [
      "Enter availability for 7:00AM - 1:00PM (preferred/available/unavailable):  a\n"
     ]
    },
    {
     "name": "stdout",
     "output_type": "stream",
     "text": [
      "Invalid input. Defaulting to 'available'.\n"
     ]
    },
    {
     "name": "stdin",
     "output_type": "stream",
     "text": [
      "Enter availability for 1:00PM - 7:00PM (preferred/available/unavailable):  a\n"
     ]
    },
    {
     "name": "stdout",
     "output_type": "stream",
     "text": [
      "Invalid input. Defaulting to 'available'.\n",
      "\n",
      "Day: Saturday\n"
     ]
    },
    {
     "name": "stdin",
     "output_type": "stream",
     "text": [
      "Enter availability for 7:00AM - 1:00PM (preferred/available/unavailable):  a\n"
     ]
    },
    {
     "name": "stdout",
     "output_type": "stream",
     "text": [
      "Invalid input. Defaulting to 'available'.\n"
     ]
    },
    {
     "name": "stdin",
     "output_type": "stream",
     "text": [
      "Enter availability for 1:00PM - 7:00PM (preferred/available/unavailable):  a\n"
     ]
    },
    {
     "name": "stdout",
     "output_type": "stream",
     "text": [
      "Invalid input. Defaulting to 'available'.\n",
      "\n",
      "Day: Sunday\n"
     ]
    },
    {
     "name": "stdin",
     "output_type": "stream",
     "text": [
      "Enter availability for 7:00AM - 1:00PM (preferred/available/unavailable):  a\n"
     ]
    },
    {
     "name": "stdout",
     "output_type": "stream",
     "text": [
      "Invalid input. Defaulting to 'available'.\n"
     ]
    },
    {
     "name": "stdin",
     "output_type": "stream",
     "text": [
      "Enter availability for 1:00PM - 7:00PM (preferred/available/unavailable):  a\n"
     ]
    },
    {
     "name": "stdout",
     "output_type": "stream",
     "text": [
      "Invalid input. Defaulting to 'available'.\n",
      "Updating availability for Bob\n",
      "\n",
      "Day: Monday\n"
     ]
    },
    {
     "name": "stdin",
     "output_type": "stream",
     "text": [
      "Enter availability for 7:00AM - 1:00PM (preferred/available/unavailable):  a\n"
     ]
    },
    {
     "name": "stdout",
     "output_type": "stream",
     "text": [
      "Invalid input. Defaulting to 'available'.\n"
     ]
    },
    {
     "name": "stdin",
     "output_type": "stream",
     "text": [
      "Enter availability for 1:00PM - 7:00PM (preferred/available/unavailable):  a\n"
     ]
    },
    {
     "name": "stdout",
     "output_type": "stream",
     "text": [
      "Invalid input. Defaulting to 'available'.\n",
      "\n",
      "Day: Tuesday\n"
     ]
    },
    {
     "name": "stdin",
     "output_type": "stream",
     "text": [
      "Enter availability for 7:00AM - 1:00PM (preferred/available/unavailable):  a\n"
     ]
    },
    {
     "name": "stdout",
     "output_type": "stream",
     "text": [
      "Invalid input. Defaulting to 'available'.\n"
     ]
    },
    {
     "name": "stdin",
     "output_type": "stream",
     "text": [
      "Enter availability for 1:00PM - 7:00PM (preferred/available/unavailable):  a\n"
     ]
    },
    {
     "name": "stdout",
     "output_type": "stream",
     "text": [
      "Invalid input. Defaulting to 'available'.\n",
      "\n",
      "Day: Wednesday\n"
     ]
    },
    {
     "name": "stdin",
     "output_type": "stream",
     "text": [
      "Enter availability for 7:00AM - 1:00PM (preferred/available/unavailable):  a\n"
     ]
    },
    {
     "name": "stdout",
     "output_type": "stream",
     "text": [
      "Invalid input. Defaulting to 'available'.\n"
     ]
    },
    {
     "name": "stdin",
     "output_type": "stream",
     "text": [
      "Enter availability for 1:00PM - 7:00PM (preferred/available/unavailable):  a\n"
     ]
    },
    {
     "name": "stdout",
     "output_type": "stream",
     "text": [
      "Invalid input. Defaulting to 'available'.\n",
      "\n",
      "Day: Thursday\n"
     ]
    },
    {
     "name": "stdin",
     "output_type": "stream",
     "text": [
      "Enter availability for 7:00AM - 1:00PM (preferred/available/unavailable):  a\n"
     ]
    },
    {
     "name": "stdout",
     "output_type": "stream",
     "text": [
      "Invalid input. Defaulting to 'available'.\n"
     ]
    },
    {
     "name": "stdin",
     "output_type": "stream",
     "text": [
      "Enter availability for 1:00PM - 7:00PM (preferred/available/unavailable):  a\n"
     ]
    },
    {
     "name": "stdout",
     "output_type": "stream",
     "text": [
      "Invalid input. Defaulting to 'available'.\n",
      "\n",
      "Day: Friday\n"
     ]
    },
    {
     "name": "stdin",
     "output_type": "stream",
     "text": [
      "Enter availability for 7:00AM - 1:00PM (preferred/available/unavailable):  a\n"
     ]
    },
    {
     "name": "stdout",
     "output_type": "stream",
     "text": [
      "Invalid input. Defaulting to 'available'.\n"
     ]
    },
    {
     "name": "stdin",
     "output_type": "stream",
     "text": [
      "Enter availability for 1:00PM - 7:00PM (preferred/available/unavailable):  a\n"
     ]
    },
    {
     "name": "stdout",
     "output_type": "stream",
     "text": [
      "Invalid input. Defaulting to 'available'.\n",
      "\n",
      "Day: Saturday\n"
     ]
    },
    {
     "name": "stdin",
     "output_type": "stream",
     "text": [
      "Enter availability for 7:00AM - 1:00PM (preferred/available/unavailable):  a\n"
     ]
    },
    {
     "name": "stdout",
     "output_type": "stream",
     "text": [
      "Invalid input. Defaulting to 'available'.\n"
     ]
    },
    {
     "name": "stdin",
     "output_type": "stream",
     "text": [
      "Enter availability for 1:00PM - 7:00PM (preferred/available/unavailable):  a\n"
     ]
    },
    {
     "name": "stdout",
     "output_type": "stream",
     "text": [
      "Invalid input. Defaulting to 'available'.\n",
      "\n",
      "Day: Sunday\n"
     ]
    },
    {
     "name": "stdin",
     "output_type": "stream",
     "text": [
      "Enter availability for 7:00AM - 1:00PM (preferred/available/unavailable):  a\n"
     ]
    },
    {
     "name": "stdout",
     "output_type": "stream",
     "text": [
      "Invalid input. Defaulting to 'available'.\n"
     ]
    },
    {
     "name": "stdin",
     "output_type": "stream",
     "text": [
      "Enter availability for 1:00PM - 7:00PM (preferred/available/unavailable):  a\n"
     ]
    },
    {
     "name": "stdout",
     "output_type": "stream",
     "text": [
      "Invalid input. Defaulting to 'available'.\n",
      "Updating availability for Charlie\n",
      "\n",
      "Day: Monday\n"
     ]
    },
    {
     "name": "stdin",
     "output_type": "stream",
     "text": [
      "Enter availability for 7:00AM - 1:00PM (preferred/available/unavailable):  a\n"
     ]
    },
    {
     "name": "stdout",
     "output_type": "stream",
     "text": [
      "Invalid input. Defaulting to 'available'.\n"
     ]
    },
    {
     "name": "stdin",
     "output_type": "stream",
     "text": [
      "Enter availability for 1:00PM - 7:00PM (preferred/available/unavailable):  a\n"
     ]
    },
    {
     "name": "stdout",
     "output_type": "stream",
     "text": [
      "Invalid input. Defaulting to 'available'.\n",
      "\n",
      "Day: Tuesday\n"
     ]
    },
    {
     "name": "stdin",
     "output_type": "stream",
     "text": [
      "Enter availability for 7:00AM - 1:00PM (preferred/available/unavailable):  a\n"
     ]
    },
    {
     "name": "stdout",
     "output_type": "stream",
     "text": [
      "Invalid input. Defaulting to 'available'.\n"
     ]
    },
    {
     "name": "stdin",
     "output_type": "stream",
     "text": [
      "Enter availability for 1:00PM - 7:00PM (preferred/available/unavailable):  a\n"
     ]
    },
    {
     "name": "stdout",
     "output_type": "stream",
     "text": [
      "Invalid input. Defaulting to 'available'.\n",
      "\n",
      "Day: Wednesday\n"
     ]
    },
    {
     "name": "stdin",
     "output_type": "stream",
     "text": [
      "Enter availability for 7:00AM - 1:00PM (preferred/available/unavailable):  a\n"
     ]
    },
    {
     "name": "stdout",
     "output_type": "stream",
     "text": [
      "Invalid input. Defaulting to 'available'.\n"
     ]
    },
    {
     "name": "stdin",
     "output_type": "stream",
     "text": [
      "Enter availability for 1:00PM - 7:00PM (preferred/available/unavailable):  a\n"
     ]
    },
    {
     "name": "stdout",
     "output_type": "stream",
     "text": [
      "Invalid input. Defaulting to 'available'.\n",
      "\n",
      "Day: Thursday\n"
     ]
    },
    {
     "name": "stdin",
     "output_type": "stream",
     "text": [
      "Enter availability for 7:00AM - 1:00PM (preferred/available/unavailable):  a\n"
     ]
    },
    {
     "name": "stdout",
     "output_type": "stream",
     "text": [
      "Invalid input. Defaulting to 'available'.\n"
     ]
    },
    {
     "name": "stdin",
     "output_type": "stream",
     "text": [
      "Enter availability for 1:00PM - 7:00PM (preferred/available/unavailable):  a\n"
     ]
    },
    {
     "name": "stdout",
     "output_type": "stream",
     "text": [
      "Invalid input. Defaulting to 'available'.\n",
      "\n",
      "Day: Friday\n"
     ]
    },
    {
     "name": "stdin",
     "output_type": "stream",
     "text": [
      "Enter availability for 7:00AM - 1:00PM (preferred/available/unavailable):  a\n"
     ]
    },
    {
     "name": "stdout",
     "output_type": "stream",
     "text": [
      "Invalid input. Defaulting to 'available'.\n"
     ]
    },
    {
     "name": "stdin",
     "output_type": "stream",
     "text": [
      "Enter availability for 1:00PM - 7:00PM (preferred/available/unavailable):  a\n"
     ]
    },
    {
     "name": "stdout",
     "output_type": "stream",
     "text": [
      "Invalid input. Defaulting to 'available'.\n",
      "\n",
      "Day: Saturday\n"
     ]
    },
    {
     "name": "stdin",
     "output_type": "stream",
     "text": [
      "Enter availability for 7:00AM - 1:00PM (preferred/available/unavailable):  a\n"
     ]
    },
    {
     "name": "stdout",
     "output_type": "stream",
     "text": [
      "Invalid input. Defaulting to 'available'.\n"
     ]
    },
    {
     "name": "stdin",
     "output_type": "stream",
     "text": [
      "Enter availability for 1:00PM - 7:00PM (preferred/available/unavailable):  a\n"
     ]
    },
    {
     "name": "stdout",
     "output_type": "stream",
     "text": [
      "Invalid input. Defaulting to 'available'.\n",
      "\n",
      "Day: Sunday\n"
     ]
    },
    {
     "name": "stdin",
     "output_type": "stream",
     "text": [
      "Enter availability for 7:00AM - 1:00PM (preferred/available/unavailable):  a\n"
     ]
    },
    {
     "name": "stdout",
     "output_type": "stream",
     "text": [
      "Invalid input. Defaulting to 'available'.\n"
     ]
    },
    {
     "name": "stdin",
     "output_type": "stream",
     "text": [
      "Enter availability for 1:00PM - 7:00PM (preferred/available/unavailable):  a\n"
     ]
    },
    {
     "name": "stdout",
     "output_type": "stream",
     "text": [
      "Invalid input. Defaulting to 'available'.\n"
     ]
    },
    {
     "name": "stdin",
     "output_type": "stream",
     "text": [
      "Enter the year:  2023\n",
      "Enter the month (1-12):  11\n"
     ]
    },
    {
     "name": "stdout",
     "output_type": "stream",
     "text": [
      "Schedule for November 2023 saved as HTML.\n",
      "\n",
      "Weekly Pay Report\n",
      "====================\n",
      "Alice: $3120.00\n",
      "Bob: $1560.00\n",
      "Charlie: $2520.00\n",
      "\n",
      "Total Weekly Pay: $7200.00\n"
     ]
    }
   ],
   "source": [
    "import calendar\n",
    "import random\n",
    "\n",
    "# Define constants\n",
    "SHIFTS = [\"7:00AM - 1:00PM\", \"1:00PM - 7:00PM\"]\n",
    "PAY_RATE = 20  # hourly pay rate for paid caregivers\n",
    "\n",
    "# Caregivers data\n",
    "caregivers = [\n",
    "    {\"name\": \"Jack\", \"phone\": \"123-456-7890\", \"email\": \"jack@example.com\", \"pay_rate\": PAY_RATE, \"hours\": 0, \"availability\": {}},\n",
    "    {\"name\": \"John\", \"phone\": \"987-654-3210\", \"email\": \"john@abc.com\", \"pay_rate\": PAY_RATE, \"hours\": 0, \"availability\": {}},\n",
    "    {\"name\": \"Jacob\", \"phone\": \"555-555-5555\", \"email\": \"jacob@123.com\", \"pay_rate\": PAY_RATE, \"hours\": 0, \"availability\": {}},\n",
    "    # plz add more caregivers, we need 8\n",
    "]\n",
    "\n",
    "# Create default availability schedule\n",
    "def create_default_availability():\n",
    "    availability = {}\n",
    "    for day in range(1, 8):  # Monday-Sunday\n",
    "        availability[day] = {\n",
    "            SHIFTS[0]: \"available\",\n",
    "            SHIFTS[1]: \"available\"\n",
    "        }\n",
    "    return availability\n",
    "\n",
    "# Update caregiver availability\n",
    "def update_availability(caregiver):\n",
    "    print(f\"Updating availability for {caregiver['name']}\")\n",
    "    for day in range(1, 8):\n",
    "        day_name = calendar.day_name[day - 1]\n",
    "        print(f\"\\nDay: {day_name}\")\n",
    "        \n",
    "        for shift in SHIFTS:\n",
    "            status = input(f\"Enter availability for {shift} (preferred/available/unavailable): \").strip().lower()\n",
    "            if status in [\"preferred\", \"available\", \"unavailable\"]:\n",
    "                caregiver[\"availability\"].setdefault(day, {})[shift] = status\n",
    "            else:\n",
    "                print(f\"Invalid input. Defaulting to 'available'.\")\n",
    "                caregiver[\"availability\"].setdefault(day, {})[shift] = \"available\"\n",
    "\n",
    "# Generate schedule for a month\n",
    "def generate_schedule(year, month):\n",
    "    num_days = calendar.monthrange(year, month)[1]\n",
    "    schedule = {day: {SHIFTS[0]: None, SHIFTS[1]: None} for day in range(1, num_days + 1)}\n",
    "\n",
    "    for day in range(1, num_days + 1):\n",
    "        for shift in SHIFTS:\n",
    "            # Assign caregivers based on availability and preferences\n",
    "            available_caregivers = [\n",
    "                caregiver for caregiver in caregivers\n",
    "                if caregiver[\"availability\"].get(day % 7 + 1, {}).get(shift, \"unavailable\") != \"unavailable\"\n",
    "            ]\n",
    "            preferred_caregivers = [\n",
    "                caregiver for caregiver in available_caregivers\n",
    "                if caregiver[\"availability\"].get(day % 7 + 1, {}).get(shift) == \"preferred\"\n",
    "            ]\n",
    "            # Randomly select caregiver if more than 1 are available\n",
    "            selected_caregiver = random.choice(preferred_caregivers or available_caregivers or [None])\n",
    "            if selected_caregiver:\n",
    "                schedule[day][shift] = selected_caregiver[\"name\"]\n",
    "                selected_caregiver[\"hours\"] += 6  # Each shift is 6 hours\n",
    "    return schedule\n",
    "\n",
    "# Display schedule as an HTML calendar\n",
    "def display_schedule_as_html(schedule, year, month):\n",
    "    html = f\"\"\"\n",
    "    <html>\n",
    "    <head>\n",
    "        <title>Schedule for {calendar.month_name[month]} {year}</title>\n",
    "        <style>\n",
    "            table {{\n",
    "                border-collapse: collapse;\n",
    "                width: 100%;\n",
    "            }}\n",
    "            th, td {{\n",
    "                border: 1px solid black;\n",
    "                padding: 8px;\n",
    "                text-align: center;\n",
    "            }}\n",
    "            th {{\n",
    "                background-color: #f2f2f2;\n",
    "            }}\n",
    "        </style>\n",
    "    </head>\n",
    "    <body>\n",
    "        <h1>Schedule for {calendar.month_name[month]} {year}</h1>\n",
    "        <table>\n",
    "            <tr>\n",
    "                <th>Sun</th>\n",
    "                <th>Mon</th>\n",
    "                <th>Tue</th>\n",
    "                <th>Wed</th>\n",
    "                <th>Thu</th>\n",
    "                <th>Fri</th>\n",
    "                <th>Sat</th>\n",
    "            </tr>\n",
    "    \"\"\"\n",
    "    first_weekday, num_days = calendar.monthrange(year, month)\n",
    "    current_day = 1\n",
    "    for week in range((num_days + first_weekday) // 7 + 1):\n",
    "        html += \"<tr>\"\n",
    "        for day in range(7):\n",
    "            if week == 0 and day < first_weekday or current_day > num_days:\n",
    "                html += \"<td></td>\"\n",
    "            else:\n",
    "                shifts = schedule[current_day]\n",
    "                am = shifts[SHIFTS[0]] or \"N/A\"\n",
    "                pm = shifts[SHIFTS[1]] or \"N/A\"\n",
    "                html += f\"<td>{current_day}<br><b>AM:</b> {am}<br><b>PM:</b> {pm}</td>\"\n",
    "                current_day += 1\n",
    "        html += \"</tr>\"\n",
    "    html += \"</table></body></html>\"\n",
    "\n",
    "    with open(f\"schedule_{year}_{month}.html\", \"w\") as file:\n",
    "        file.write(html)\n",
    "    print(f\"Schedule for {calendar.month_name[month]} {year} saved as HTML.\")\n",
    "\n",
    "# Calculate and display pay report\n",
    "# plz add monthly pay report too\n",
    "def calculate_pay_report():\n",
    "    total_weekly = 0\n",
    "    print(\"\\nWeekly Pay Report\")\n",
    "    print(\"=\" * 20)\n",
    "    for caregiver in caregivers:\n",
    "        gross_pay = caregiver[\"hours\"] * caregiver[\"pay_rate\"]\n",
    "        total_weekly += gross_pay\n",
    "        print(f\"{caregiver['name']}: ${gross_pay:.2f}\")\n",
    "        caregiver[\"hours\"] = 0  # Reset hours for next period\n",
    "    print(f\"\\nTotal Weekly Pay: ${total_weekly:.2f}\")\n",
    "\n",
    "# Main program\n",
    "if __name__ == \"__main__\":\n",
    "    # Initialize caregiver availability\n",
    "    for caregiver in caregivers:\n",
    "        caregiver[\"availability\"] = create_default_availability()\n",
    "\n",
    "    # Allow updating caregiver availability\n",
    "    for caregiver in caregivers:\n",
    "        update_availability(caregiver)\n",
    "\n",
    "    # Get schedule details\n",
    "    year = int(input(\"Enter the year: \"))\n",
    "    month = int(input(\"Enter the month (1-12): \"))\n",
    "\n",
    "    # Generate and display schedule\n",
    "    schedule = generate_schedule(year, month)\n",
    "    display_schedule_as_html(schedule, year, month)\n",
    "\n",
    "    # Calculate and display pay report\n",
    "    calculate_pay_report()"
   ]
  },
  {
   "cell_type": "code",
   "execution_count": 34,
   "id": "eec6b200-1215-44a2-ad76-30b6ce112e7e",
   "metadata": {},
   "outputs": [
    {
     "name": "stdout",
     "output_type": "stream",
     "text": [
      "{1: {'7:00AM - 1:00PM': 'Charlie', '1:00PM - 7:00PM': 'Alice'}, 2: {'7:00AM - 1:00PM': 'Charlie', '1:00PM - 7:00PM': 'Bob'}, 3: {'7:00AM - 1:00PM': 'Charlie', '1:00PM - 7:00PM': 'Alice'}, 4: {'7:00AM - 1:00PM': 'Alice', '1:00PM - 7:00PM': 'Alice'}, 5: {'7:00AM - 1:00PM': 'Charlie', '1:00PM - 7:00PM': 'Bob'}, 6: {'7:00AM - 1:00PM': 'Charlie', '1:00PM - 7:00PM': 'Bob'}, 7: {'7:00AM - 1:00PM': 'Alice', '1:00PM - 7:00PM': 'Bob'}, 8: {'7:00AM - 1:00PM': 'Charlie', '1:00PM - 7:00PM': 'Alice'}, 9: {'7:00AM - 1:00PM': 'Bob', '1:00PM - 7:00PM': 'Charlie'}, 10: {'7:00AM - 1:00PM': 'Bob', '1:00PM - 7:00PM': 'Alice'}, 11: {'7:00AM - 1:00PM': 'Charlie', '1:00PM - 7:00PM': 'Alice'}, 12: {'7:00AM - 1:00PM': 'Alice', '1:00PM - 7:00PM': 'Charlie'}, 13: {'7:00AM - 1:00PM': 'Charlie', '1:00PM - 7:00PM': 'Alice'}, 14: {'7:00AM - 1:00PM': 'Alice', '1:00PM - 7:00PM': 'Alice'}, 15: {'7:00AM - 1:00PM': 'Alice', '1:00PM - 7:00PM': 'Charlie'}, 16: {'7:00AM - 1:00PM': 'Bob', '1:00PM - 7:00PM': 'Alice'}, 17: {'7:00AM - 1:00PM': 'Charlie', '1:00PM - 7:00PM': 'Alice'}, 18: {'7:00AM - 1:00PM': 'Charlie', '1:00PM - 7:00PM': 'Bob'}, 19: {'7:00AM - 1:00PM': 'Charlie', '1:00PM - 7:00PM': 'Alice'}, 20: {'7:00AM - 1:00PM': 'Bob', '1:00PM - 7:00PM': 'Alice'}, 21: {'7:00AM - 1:00PM': 'Bob', '1:00PM - 7:00PM': 'Alice'}, 22: {'7:00AM - 1:00PM': 'Bob', '1:00PM - 7:00PM': 'Charlie'}, 23: {'7:00AM - 1:00PM': 'Charlie', '1:00PM - 7:00PM': 'Bob'}, 24: {'7:00AM - 1:00PM': 'Charlie', '1:00PM - 7:00PM': 'Alice'}, 25: {'7:00AM - 1:00PM': 'Alice', '1:00PM - 7:00PM': 'Alice'}, 26: {'7:00AM - 1:00PM': 'Alice', '1:00PM - 7:00PM': 'Charlie'}, 27: {'7:00AM - 1:00PM': 'Alice', '1:00PM - 7:00PM': 'Bob'}, 28: {'7:00AM - 1:00PM': 'Charlie', '1:00PM - 7:00PM': 'Alice'}, 29: {'7:00AM - 1:00PM': 'Charlie', '1:00PM - 7:00PM': 'Charlie'}, 30: {'7:00AM - 1:00PM': 'Alice', '1:00PM - 7:00PM': 'Alice'}}\n"
     ]
    }
   ],
   "source": [
    "print(schedule)"
   ]
  },
  {
   "cell_type": "code",
   "execution_count": null,
   "id": "639cb168-96ca-43c6-b1f3-72f21a006111",
   "metadata": {},
   "outputs": [],
   "source": []
  }
 ],
 "metadata": {
  "kernelspec": {
   "display_name": "Python 3 (ipykernel)",
   "language": "python",
   "name": "python3"
  },
  "language_info": {
   "codemirror_mode": {
    "name": "ipython",
    "version": 3
   },
   "file_extension": ".py",
   "mimetype": "text/x-python",
   "name": "python",
   "nbconvert_exporter": "python",
   "pygments_lexer": "ipython3",
   "version": "3.12.4"
  }
 },
 "nbformat": 4,
 "nbformat_minor": 5
}
